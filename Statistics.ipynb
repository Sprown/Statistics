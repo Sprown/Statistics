{
 "cells": [
  {
   "cell_type": "code",
   "execution_count": 1,
   "id": "584fa6e6-a347-4af9-bc30-b4d16e1a639b",
   "metadata": {},
   "outputs": [
    {
     "data": {
      "text/plain": [
       "array([105, 122, 124, 110, 112, 129, 127, 116,  99, 104,  99, 125, 120,\n",
       "       123, 120, 114, 122, 121, 130, 125, 125, 115, 119, 124, 112, 114,\n",
       "        92, 101,  93,  94, 109,  91,  93, 117, 128,  98, 118, 108, 121,\n",
       "       125, 114, 121, 117, 107,  97,  93, 106, 124,  93, 103, 124, 121,\n",
       "       120, 103, 121,  95,  92, 108, 117, 106, 125, 115, 119,  90, 128,\n",
       "       105, 129, 103, 113, 126,  90,  92, 120,  90, 113, 106, 100,  96,\n",
       "       104,  92,  99, 129, 115,  97, 127, 106, 103, 107,  90, 114,  95,\n",
       "       111, 108, 121, 100, 104,  91, 121, 111, 116])"
      ]
     },
     "execution_count": 1,
     "metadata": {},
     "output_type": "execute_result"
    }
   ],
   "source": [
    "#1. Generate a list of 100 integers containing values between 90 to 130 and store it in the variable int_list.\n",
    "\n",
    "import numpy as np\n",
    "int_list = np.random.randint(90, 131, 100)\n",
    "int_list"
   ]
  },
  {
   "cell_type": "code",
   "execution_count": 2,
   "id": "ce58c3c1-b8e3-40d6-abf9-2f7d1a03ce5a",
   "metadata": {},
   "outputs": [
    {
     "data": {
      "text/plain": [
       "(110.47, 112.0)"
      ]
     },
     "execution_count": 2,
     "metadata": {},
     "output_type": "execute_result"
    }
   ],
   "source": [
    "#1(i). Calculate the mean and median of the list\n",
    "\n",
    "def mean(lst):\n",
    "    return sum(lst) / len(lst)\n",
    "\n",
    "def median(lst):\n",
    "    sorted_lst = sorted(lst)\n",
    "    n = len(lst)\n",
    "    mid = n // 2\n",
    "    if n % 2 == 0:\n",
    "        return (sorted_lst[mid - 1] + sorted_lst[mid]) / 2\n",
    "    return sorted_lst[mid]\n",
    "\n",
    "mean_val = mean(int_list)\n",
    "median_val = median(int_list)\n",
    "mean_val, median_val"
   ]
  },
  {
   "cell_type": "code",
   "execution_count": 36,
   "id": "c96367df-980b-44c2-ac35-e7cf8cfa535d",
   "metadata": {},
   "outputs": [
    {
     "name": "stderr",
     "output_type": "stream",
     "text": [
      "/tmp/ipykernel_1867/1116119358.py:4: FutureWarning: Unlike other reduction functions (e.g. `skew`, `kurtosis`), the default behavior of `mode` typically preserves the axis it acts along. In SciPy 1.11.0, this behavior will change: the default value of `keepdims` will become False, the `axis` over which the statistic is taken will be eliminated, and the value None will no longer be accepted. Set `keepdims` to True or False to avoid this warning.\n",
      "  mode_val = stats.mode(int_list)[0][0]\n"
     ]
    },
    {
     "data": {
      "text/plain": [
       "121"
      ]
     },
     "execution_count": 36,
     "metadata": {},
     "output_type": "execute_result"
    }
   ],
   "source": [
    "#1(ii). Compute the mode of the list\n",
    "\n",
    "from scipy import stats\n",
    "mode_val = stats.mode(int_list)[0][0]\n",
    "mode_val"
   ]
  },
  {
   "cell_type": "code",
   "execution_count": 4,
   "id": "7001a365-6e05-4b9c-b773-7b7c91d05035",
   "metadata": {},
   "outputs": [
    {
     "data": {
      "text/plain": [
       "23.0"
      ]
     },
     "execution_count": 4,
     "metadata": {},
     "output_type": "execute_result"
    }
   ],
   "source": [
    "#1(iii). Calculate the weighted mean of a list of values and their corresponding weights\n",
    "\n",
    "def weighted_mean(values, weights):\n",
    "    return np.average(values, weights=weights)\n",
    "\n",
    "values = [10, 20, 30]\n",
    "weights = [0.2, 0.3, 0.5]\n",
    "weighted_mean_val = weighted_mean(values, weights)\n",
    "weighted_mean_val"
   ]
  },
  {
   "cell_type": "code",
   "execution_count": 5,
   "id": "ea5baf8d-69fb-40ef-9958-d82187c421f5",
   "metadata": {},
   "outputs": [
    {
     "data": {
      "text/plain": [
       "2.6051710846973517"
      ]
     },
     "execution_count": 5,
     "metadata": {},
     "output_type": "execute_result"
    }
   ],
   "source": [
    "#1(iv). Find the geometric mean of a list of positive numbers\n",
    "\n",
    "def geometric_mean(lst):\n",
    "    return stats.gmean(lst)\n",
    "\n",
    "positive_lst = [1, 2, 3, 4, 5]\n",
    "geo_mean = geometric_mean(positive_lst)\n",
    "geo_mean"
   ]
  },
  {
   "cell_type": "code",
   "execution_count": 6,
   "id": "4add60e9-0f67-41d5-96d4-a2264aa5e585",
   "metadata": {},
   "outputs": [
    {
     "data": {
      "text/plain": [
       "2.18978102189781"
      ]
     },
     "execution_count": 6,
     "metadata": {},
     "output_type": "execute_result"
    }
   ],
   "source": [
    "#1(v). Calculate the harmonic mean of a list of values\n",
    "\n",
    "def harmonic_mean(lst):\n",
    "    return stats.hmean(lst)\n",
    "\n",
    "harm_mean = harmonic_mean([1, 2, 3, 4, 5])\n",
    "harm_mean"
   ]
  },
  {
   "cell_type": "code",
   "execution_count": 7,
   "id": "91f256dd-adb6-4dfb-bf5f-c51a5431dc6c",
   "metadata": {},
   "outputs": [
    {
     "data": {
      "text/plain": [
       "110.0"
      ]
     },
     "execution_count": 7,
     "metadata": {},
     "output_type": "execute_result"
    }
   ],
   "source": [
    "#1(vi). Determine the midrange of a list of numbers\n",
    "\n",
    "def midrange(lst):\n",
    "    return (min(lst) + max(lst)) / 2\n",
    "\n",
    "midrange_val = midrange(int_list)\n",
    "midrange_val"
   ]
  },
  {
   "cell_type": "code",
   "execution_count": 8,
   "id": "92c9f417-3c81-45e1-bcd5-0695d32e86a1",
   "metadata": {},
   "outputs": [
    {
     "data": {
      "text/plain": [
       "110.7375"
      ]
     },
     "execution_count": 8,
     "metadata": {},
     "output_type": "execute_result"
    }
   ],
   "source": [
    "#1(vii). Calculate the trimmed mean of a list, excluding a certain percentage of outliers\n",
    "\n",
    "def trimmed_mean(lst, proportion_to_cut):\n",
    "    return stats.trim_mean(lst, proportion_to_cut)\n",
    "\n",
    "trimmed_mean_val = trimmed_mean(int_list, 0.1)\n",
    "trimmed_mean_val"
   ]
  },
  {
   "cell_type": "code",
   "execution_count": 9,
   "id": "eccc6ec6-f6a9-4612-b391-c08669c971db",
   "metadata": {},
   "outputs": [
    {
     "data": {
      "text/plain": [
       "array([296, 249, 219, 254, 300, 297, 239, 242, 297, 224, 299, 233, 287,\n",
       "       267, 285, 254, 291, 275, 226, 289, 218, 204, 296, 270, 245, 222,\n",
       "       297, 295, 277, 201, 272, 288, 269, 240, 267, 221, 275, 231, 293,\n",
       "       204, 275, 218, 254, 263, 216, 221, 290, 255, 237, 239, 286, 223,\n",
       "       299, 201, 299, 286, 213, 272, 209, 253, 202, 277, 244, 228, 230,\n",
       "       218, 212, 235, 229, 236, 221, 267, 265, 235, 256, 300, 298, 204,\n",
       "       226, 235, 211, 297, 295, 201, 255, 275, 242, 229, 223, 284, 279,\n",
       "       213, 226, 204, 247, 201, 202, 283, 208, 236, 266, 269, 286, 239,\n",
       "       211, 276, 248, 205, 281, 201, 233, 203, 217, 221, 280, 226, 226,\n",
       "       237, 286, 258, 201, 280, 285, 230, 299, 220, 260, 275, 254, 232,\n",
       "       200, 281, 249, 201, 216, 210, 258, 211, 300, 275, 285, 204, 284,\n",
       "       280, 246, 281, 257, 221, 276, 276, 271, 292, 245, 271, 260, 297,\n",
       "       238, 246, 290, 293, 208, 273, 220, 268, 217, 274, 276, 299, 258,\n",
       "       239, 207, 246, 255, 259, 223, 233, 276, 250, 260, 214, 296, 295,\n",
       "       287, 268, 270, 270, 289, 226, 252, 281, 267, 293, 254, 259, 235,\n",
       "       202, 287, 268, 277, 243, 297, 230, 289, 223, 284, 276, 214, 247,\n",
       "       255, 228, 219, 293, 218, 290, 261, 274, 285, 218, 213, 226, 241,\n",
       "       216, 293, 203, 242, 252, 263, 263, 230, 274, 287, 227, 281, 217,\n",
       "       276, 222, 272, 225, 214, 204, 298, 246, 275, 279, 222, 206, 287,\n",
       "       258, 223, 232, 255, 258, 285, 218, 278, 252, 269, 292, 201, 291,\n",
       "       292, 293, 205, 230, 232, 279, 223, 231, 205, 282, 261, 250, 231,\n",
       "       295, 210, 289, 221, 296, 296, 215, 290, 228, 206, 258, 242, 283,\n",
       "       249, 282, 231, 208, 288, 300, 281, 232, 268, 263, 237, 222, 294,\n",
       "       204, 224, 239, 292, 209, 286, 279, 248, 264, 206, 282, 300, 289,\n",
       "       261, 241, 268, 222, 261, 208, 249, 295, 264, 270, 262, 259, 272,\n",
       "       227, 210, 290, 285, 244, 226, 295, 242, 293, 286, 217, 297, 248,\n",
       "       237, 269, 221, 245, 280, 201, 203, 227, 267, 299, 297, 231, 265,\n",
       "       238, 210, 288, 261, 287, 257, 240, 228, 285, 265, 263, 294, 253,\n",
       "       239, 258, 233, 278, 289, 216, 212, 273, 255, 217, 229, 219, 296,\n",
       "       203, 275, 203, 259, 265, 295, 295, 287, 298, 261, 214, 253, 230,\n",
       "       299, 277, 263, 208, 202, 205, 299, 229, 278, 209, 246, 210, 294,\n",
       "       257, 273, 280, 262, 207, 267, 221, 254, 217, 224, 285, 293, 209,\n",
       "       230, 207, 226, 260, 242, 266, 234, 290, 231, 280, 210, 257, 268,\n",
       "       231, 227, 245, 215, 286, 238, 271, 271, 232, 270, 270, 279, 223,\n",
       "       233, 254, 225, 219, 299, 295, 289, 266, 241, 271, 289, 261, 209,\n",
       "       206, 293, 204, 225, 258, 213, 230, 245, 282, 240, 216, 289, 295,\n",
       "       286, 256, 207, 290, 258, 285, 287, 223, 260, 219, 299, 264, 289,\n",
       "       266, 283, 206, 237, 275, 221, 255, 252, 288, 203, 265, 255, 219,\n",
       "       249, 272, 245, 230, 282, 222])"
      ]
     },
     "execution_count": 9,
     "metadata": {},
     "output_type": "execute_result"
    }
   ],
   "source": [
    "#2. Generate a list of 500 integers containing values between 200 to 300 and store it in the variable int_list2\n",
    "\n",
    "int_list2 = np.random.randint(200, 301, 500)\n",
    "int_list2"
   ]
  },
  {
   "cell_type": "code",
   "execution_count": 10,
   "id": "9811c8f4-a083-4411-aab5-831a4c939ec0",
   "metadata": {},
   "outputs": [
    {
     "data": {
      "image/png": "[encoded data removed]",
      "text/plain": [
       "<Figure size 640x480 with 1 Axes>"
      ]
     },
     "metadata": {},
     "output_type": "display_data"
    },
    {
     "data": {
      "image/png": "[encoded data removed]",
      "text/plain": [
       "<Figure size 640x480 with 1 Axes>"
      ]
     },
     "metadata": {},
     "output_type": "display_data"
    },
    {
     "data": {
      "image/png": "[encoded data removed]",
      "text/plain": [
       "<Figure size 640x480 with 1 Axes>"
      ]
     },
     "metadata": {},
     "output_type": "display_data"
    }
   ],
   "source": [
    "#2(i). Visualization for the given data\n",
    "\n",
    "import seaborn as sns\n",
    "import matplotlib.pyplot as plt\n",
    "\n",
    "sns.histplot(int_list2, kde=False, stat='density')\n",
    "plt.title('Frequency Distribution')\n",
    "plt.show()\n",
    "sns.histplot(int_list2, kde=True)\n",
    "plt.title('KDE Plot')\n",
    "plt.show()\n",
    "sns.histplot(int_list2, kde=True, stat='density')\n",
    "plt.title('Gaussian Distribution & KDE Plot')\n",
    "plt.show()"
   ]
  },
  {
   "cell_type": "code",
   "execution_count": 11,
   "id": "e5349ec9-3cde-49ff-80e2-ee91b3834cb5",
   "metadata": {},
   "outputs": [
    {
     "data": {
      "text/plain": [
       "100"
      ]
     },
     "execution_count": 11,
     "metadata": {},
     "output_type": "execute_result"
    }
   ],
   "source": [
    "#2(ii). Calculate the range of a given list of numbers\n",
    "\n",
    "def data_range(lst):\n",
    "    return max(lst) - min(lst)\n",
    "\n",
    "range_val = data_range(int_list2)\n",
    "range_val"
   ]
  },
  {
   "cell_type": "code",
   "execution_count": 12,
   "id": "76a84502-838d-48ee-a139-8ee153a5e328",
   "metadata": {},
   "outputs": [
    {
     "data": {
      "text/plain": [
       "(927.7005651302605, 30.458177311360252)"
      ]
     },
     "execution_count": 12,
     "metadata": {},
     "output_type": "execute_result"
    }
   ],
   "source": [
    "#2(iii). Find the variance and standard deviation of a list of numbers\n",
    "\n",
    "var_val = np.var(int_list2, ddof=1)\n",
    "std_dev = np.std(int_list2, ddof=1)\n",
    "var_val, std_dev"
   ]
  },
  {
   "cell_type": "code",
   "execution_count": 13,
   "id": "02705aa7-7e31-4571-ba1f-2477483a0177",
   "metadata": {},
   "outputs": [
    {
     "data": {
      "text/plain": [
       "55.0"
      ]
     },
     "execution_count": 13,
     "metadata": {},
     "output_type": "execute_result"
    }
   ],
   "source": [
    "#2(iv). Compute the interquartile range (IQR) of a list of values\n",
    "\n",
    "def iqr(lst):\n",
    "    q75, q25 = np.percentile(lst, [75 ,25])\n",
    "    return q75 - q25\n",
    "\n",
    "iqr_val = iqr(int_list2)\n",
    "iqr_val"
   ]
  },
  {
   "cell_type": "code",
   "execution_count": 14,
   "id": "16ecf683-3300-4f1f-97f9-2c2b2dbbb10d",
   "metadata": {},
   "outputs": [
    {
     "data": {
      "text/plain": [
       "12.067136799981084"
      ]
     },
     "execution_count": 14,
     "metadata": {},
     "output_type": "execute_result"
    }
   ],
   "source": [
    "#2(v). Calculate the coefficient of variation for a dataset\n",
    "\n",
    "def coeff_of_variation(lst):\n",
    "    return np.std(lst, ddof=1) / np.mean(lst) * 100\n",
    "\n",
    "cv_val = coeff_of_variation(int_list2)\n",
    "cv_val"
   ]
  },
  {
   "cell_type": "code",
   "execution_count": 15,
   "id": "d0c2382f-d24b-4509-8b52-af0f42137b68",
   "metadata": {},
   "outputs": [
    {
     "data": {
      "text/plain": [
       "26.835264000000002"
      ]
     },
     "execution_count": 15,
     "metadata": {},
     "output_type": "execute_result"
    }
   ],
   "source": [
    "#2(vi). Find the mean absolute deviation (MAD) of a list of numbers\n",
    "\n",
    "def mad(lst):\n",
    "    return np.mean(np.abs(lst - np.mean(lst)))\n",
    "\n",
    "mad_val = mad(int_list2)\n",
    "mad_val"
   ]
  },
  {
   "cell_type": "code",
   "execution_count": 16,
   "id": "42262579-eaf4-4568-b57e-19f5db8cf421",
   "metadata": {},
   "outputs": [
    {
     "data": {
      "text/plain": [
       "27.5"
      ]
     },
     "execution_count": 16,
     "metadata": {},
     "output_type": "execute_result"
    }
   ],
   "source": [
    "#2(vii). Calculate the quartile deviation of a list of values\n",
    "\n",
    "def quartile_deviation(lst):\n",
    "    q75, q25 = np.percentile(lst, [75 ,25])\n",
    "    return (q75 - q25) / 2\n",
    "\n",
    "quartile_dev_val = quartile_deviation(int_list2)\n",
    "quartile_dev_val"
   ]
  },
  {
   "cell_type": "code",
   "execution_count": 17,
   "id": "ce194a61-cc44-4a59-97a4-a30c022c26d6",
   "metadata": {},
   "outputs": [
    {
     "data": {
      "text/plain": [
       "39.61870953939288"
      ]
     },
     "execution_count": 17,
     "metadata": {},
     "output_type": "execute_result"
    }
   ],
   "source": [
    "#2(viii). Find the range-based coefficient of dispersion for a dataset\n",
    "\n",
    "def coeff_of_dispersion(lst):\n",
    "    return data_range(lst) / np.mean(lst) * 100\n",
    "\n",
    "dispersion_val = coeff_of_dispersion(int_list2)\n",
    "dispersion_val"
   ]
  },
  {
   "cell_type": "code",
   "execution_count": 18,
   "id": "2e621e1d-d360-4c82-ad00-cd5dee9082bc",
   "metadata": {},
   "outputs": [
    {
     "data": {
      "text/plain": [
       "(2.0999999999999996, 0.49)"
      ]
     },
     "execution_count": 18,
     "metadata": {},
     "output_type": "execute_result"
    }
   ],
   "source": [
    "#3. Write a Python class representing a discrete random variable with methods to calculate its expected value and variance\n",
    "\n",
    "class DiscreteRV:\n",
    "    def __init__(self, probs, vals):\n",
    "        self.probs = np.array(probs)\n",
    "        self.vals = np.array(vals)\n",
    "        \n",
    "    def expected_value(self):\n",
    "        return np.sum(self.probs * self.vals)\n",
    "    \n",
    "    def variance(self):\n",
    "        exp_val = self.expected_value()\n",
    "        return np.sum(self.probs * (self.vals - exp_val)**2)\n",
    "\n",
    "rv = DiscreteRV([0.2, 0.5, 0.3], [1, 2, 3])\n",
    "exp_val = rv.expected_value()\n",
    "var_val = rv.variance()\n",
    "exp_val, var_val"
   ]
  },
  {
   "cell_type": "code",
   "execution_count": 19,
   "id": "31d6d443-e333-428c-84d9-f170acea122d",
   "metadata": {},
   "outputs": [
    {
     "data": {
      "text/plain": [
       "(3.4939, 2.945162789999999)"
      ]
     },
     "execution_count": 19,
     "metadata": {},
     "output_type": "execute_result"
    }
   ],
   "source": [
    "#4. Simulate the rolling of a fair six-sided die and calculate the expected value and variance of the outcomes\n",
    "\n",
    "rolls = np.random.randint(1, 7, 10000)\n",
    "exp_val_die = np.mean(rolls)\n",
    "var_val_die = np.var(rolls)\n",
    "exp_val_die, var_val_die"
   ]
  },
  {
   "cell_type": "code",
   "execution_count": 20,
   "id": "fe84b0df-af2b-442f-a961-d7a9e881a344",
   "metadata": {},
   "outputs": [
    {
     "data": {
      "text/plain": [
       "(5.038, 2.2965559999999994)"
      ]
     },
     "execution_count": 20,
     "metadata": {},
     "output_type": "execute_result"
    }
   ],
   "source": [
    "#5. Generate random samples from a binomial distribution and calculate their mean and variance\n",
    "\n",
    "binom_samples = np.random.binomial(n=10, p=0.5, size=1000)\n",
    "mean_binom = np.mean(binom_samples)\n",
    "var_binom = np.var(binom_samples)\n",
    "mean_binom, var_binom"
   ]
  },
  {
   "cell_type": "code",
   "execution_count": 21,
   "id": "5b3974c5-3ada-4e69-b9e9-6ceee9f9d8a9",
   "metadata": {},
   "outputs": [],
   "source": [
    "#4. Implement a program to simulate the rolling of a fair six-sided die and calculate the expected value and variance of the outcomes.\n",
    "import numpy as np\n",
    "\n",
    "np.random.seed(0)\n",
    "rolls = np.random.randint(1, 7, size=10000)\n",
    "exp_val = np.mean(rolls)\n",
    "var_val = np.var(rolls)"
   ]
  },
  {
   "cell_type": "code",
   "execution_count": 22,
   "id": "3520e635-4845-4f69-b262-0be2f65254e8",
   "metadata": {},
   "outputs": [
    {
     "data": {
      "text/plain": [
       "(0.001181923828797956, 1.1191776756910425, 1.0579119413689604)"
      ]
     },
     "execution_count": 22,
     "metadata": {},
     "output_type": "execute_result"
    }
   ],
   "source": [
    "#6. Generate random numbers from a Gaussian distribution and compute their mean, variance, and standard deviation\n",
    "\n",
    "gaussian_samples = np.random.normal(loc=0, scale=1, size=1000)\n",
    "mean_gaussian = np.mean(gaussian_samples)\n",
    "var_gaussian = np.var(gaussian_samples)\n",
    "std_dev_gaussian = np.std(gaussian_samples)\n",
    "mean_gaussian, var_gaussian, std_dev_gaussian"
   ]
  },
  {
   "cell_type": "code",
   "execution_count": 23,
   "id": "99a4373a-0c5b-4654-9129-bc1bd616c831",
   "metadata": {},
   "outputs": [
    {
     "data": {
      "text/plain": [
       "(1.1262346334818638, 1.4564266884221506)"
      ]
     },
     "execution_count": 23,
     "metadata": {},
     "output_type": "execute_result"
    }
   ],
   "source": [
    "#7. Use seaborn library to load tips' dataset and find skewness and other statistics\n",
    "\n",
    "import seaborn as sns\n",
    "import pandas as pd\n",
    "tips = sns.load_dataset('tips')\n",
    "\n",
    "def skewness(column):\n",
    "    return stats.skew(column)\n",
    "\n",
    "skew_total_bill = skewness(tips['total_bill'])\n",
    "skew_tip = skewness(tips['tip'])\n",
    "skew_total_bill, skew_tip"
   ]
  },
  {
   "cell_type": "code",
   "execution_count": null,
   "id": "23e035db-9d1c-47a1-b3f4-c96cc77becf9",
   "metadata": {},
   "outputs": [],
   "source": []
  },
  {
   "cell_type": "code",
   "execution_count": 24,
   "id": "f4b63666-c031-4436-99f6-51034f8d1169",
   "metadata": {},
   "outputs": [
    {
     "data": {
      "text/plain": [
       "('positive', 'positive')"
      ]
     },
     "execution_count": 24,
     "metadata": {},
     "output_type": "execute_result"
    }
   ],
   "source": [
    "#7(ii). Determine the skewness of columns\n",
    "\n",
    "def skewness_type(skew_val):\n",
    "    if skew_val > 0:\n",
    "        return 'positive'\n",
    "    elif skew_val < 0:\n",
    "        return 'negative'\n",
    "    return 'symmetric'\n",
    "\n",
    "skew_total_bill_type = skewness_type(skew_total_bill)\n",
    "skew_tip_type = skewness_type(skew_tip)\n",
    "\n",
    "skew_total_bill_type, skew_tip_type"
   ]
  },
  {
   "cell_type": "code",
   "execution_count": 25,
   "id": "6d6f1b02-38f0-4fa6-9f89-6f45c8d3138f",
   "metadata": {},
   "outputs": [
    {
     "data": {
      "text/plain": [
       "8.323501629224854"
      ]
     },
     "execution_count": 25,
     "metadata": {},
     "output_type": "execute_result"
    }
   ],
   "source": [
    "#7(iii). Calculate the covariance between two columns\n",
    "\n",
    "cov = np.cov(tips['total_bill'], tips['tip'])[0, 1]\n",
    "cov"
   ]
  },
  {
   "cell_type": "code",
   "execution_count": 26,
   "id": "3eac1acc-25ee-42bf-810e-e6757206c348",
   "metadata": {},
   "outputs": [
    {
     "data": {
      "text/plain": [
       "0.6757341092113648"
      ]
     },
     "execution_count": 26,
     "metadata": {},
     "output_type": "execute_result"
    }
   ],
   "source": [
    "#7(iv). Calculate the Pearson correlation coefficient between two columns\n",
    "\n",
    "corr_coeff = tips[['total_bill', 'tip']].corr().iloc[0, 1]\n",
    "corr_coeff"
   ]
  },
  {
   "cell_type": "code",
   "execution_count": 27,
   "id": "97056a98-278c-4e53-ae2e-009a97287727",
   "metadata": {},
   "outputs": [
    {
     "data": {
      "image/png": "[encoded data removed]",
      "text/plain": [
       "<Figure size 640x480 with 1 Axes>"
      ]
     },
     "metadata": {},
     "output_type": "display_data"
    }
   ],
   "source": [
    "#7(v). Visualize the correlation between two specific columns using scatter plots\n",
    "\n",
    "sns.scatterplot(x='total_bill', y='tip', data=tips)\n",
    "plt.title('Total Bill vs Tip')\n",
    "plt.show()"
   ]
  },
  {
   "cell_type": "code",
   "execution_count": 28,
   "id": "be31969c-ecfd-4b62-8672-414c20c59f8c",
   "metadata": {},
   "outputs": [
    {
     "data": {
      "text/plain": [
       "array([0.39894228, 0.24197072, 0.05399097])"
      ]
     },
     "execution_count": 28,
     "metadata": {},
     "output_type": "execute_result"
    }
   ],
   "source": [
    "#8. Calculate the probability density function (PDF) of a continuous random variable for a given normal distribution\n",
    "\n",
    "def pdf_normal(x, mu, sigma):\n",
    "    return stats.norm.pdf(x, mu, sigma)\n",
    "\n",
    "pdf_vals = pdf_normal([0, 1, 2], 0, 1)\n",
    "pdf_vals"
   ]
  },
  {
   "cell_type": "code",
   "execution_count": 29,
   "id": "26ffe264-e456-4ce0-92cc-81653237e98f",
   "metadata": {},
   "outputs": [
    {
     "data": {
      "text/plain": [
       "array([0.63212056, 0.86466472, 0.95021293])"
      ]
     },
     "execution_count": 29,
     "metadata": {},
     "output_type": "execute_result"
    }
   ],
   "source": [
    "#9. Calculate the cumulative distribution function (CDF) of an exponential distribution\n",
    "\n",
    "def cdf_exponential(x, scale):\n",
    "    return stats.expon.cdf(x, scale=scale)\n",
    "\n",
    "cdf_vals = cdf_exponential([1, 2, 3], scale=1)\n",
    "cdf_vals "
   ]
  },
  {
   "cell_type": "code",
   "execution_count": 30,
   "id": "9cfe6c1d-af44-49e9-9765-6adfc1324592",
   "metadata": {},
   "outputs": [
    {
     "data": {
      "text/plain": [
       "array([0.27067057, 0.27067057, 0.18044704])"
      ]
     },
     "execution_count": 30,
     "metadata": {},
     "output_type": "execute_result"
    }
   ],
   "source": [
    "#10. Calculate the probability mass function (PMF) of Poisson distribution\n",
    "\n",
    "def pmf_poisson(x, mu):\n",
    "    return stats.poisson.pmf(x, mu)\n",
    "\n",
    "pmf_vals = pmf_poisson([1, 2, 3], mu=2)\n",
    "pmf_vals"
   ]
  },
  {
   "cell_type": "code",
   "execution_count": 37,
   "id": "2b32bf7c-acf6-4ab4-9d1b-47a8be33dc09",
   "metadata": {},
   "outputs": [
    {
     "data": {
      "text/plain": [
       "(-1.883108942886774, 0.059685605532426224)"
      ]
     },
     "execution_count": 37,
     "metadata": {},
     "output_type": "execute_result"
    }
   ],
   "source": [
    "#11. Apply z-test to compare old and new website layouts\n",
    "\n",
    "from statsmodels.stats.proportion import proportions_ztest\n",
    "successes = np.array([50, 70])\n",
    "trials = np.array([1000, 1000])\n",
    "z_stat, p_val = proportions_ztest(successes, trials)\n",
    "z_stat, p_val"
   ]
  },
  {
   "cell_type": "code",
   "execution_count": 39,
   "id": "0920d128-b311-4a74-8ce8-44e27dbe151a",
   "metadata": {},
   "outputs": [
    {
     "data": {
      "text/plain": [
       "(-4.593190894944668, 0.0013030932910086035)"
      ]
     },
     "execution_count": 39,
     "metadata": {},
     "output_type": "execute_result"
    }
   ],
   "source": [
    "#12. Apply z-test to compare scores before and after the program\n",
    "\n",
    "before_program = np.array([75, 80, 85, 70, 90, 78, 92, 88, 82, 87])\n",
    "after_program = np.array([80, 85, 90, 80, 92, 80, 95, 90, 85, 88])\n",
    "z_stat, p_val = stats.ttest_rel(before_program, after_program)\n",
    "z_stat, p_val"
   ]
  },
  {
   "cell_type": "code",
   "execution_count": 40,
   "id": "b0046582-d78d-493f-b2f8-9bebb5b4cb8a",
   "metadata": {},
   "outputs": [
    {
     "data": {
      "text/plain": [
       "(10.04987562112089, 3.433031432681152e-06)"
      ]
     },
     "execution_count": 40,
     "metadata": {},
     "output_type": "execute_result"
    }
   ],
   "source": [
    "#13. Apply z-test to compare blood pressure before and after drug\n",
    "\n",
    "before_drug = np.array([145, 150, 140, 135, 155, 160, 152, 148, 130, 138])\n",
    "after_drug = np.array([130, 140, 132, 128, 145, 148, 138, 136, 125, 130])\n",
    "z_stat, p_val = stats.ttest_rel(before_drug, after_drug)\n",
    "z_stat, p_val"
   ]
  },
  {
   "cell_type": "code",
   "execution_count": 41,
   "id": "396e01b5-3e9d-46d1-b5e3-4b24da3983a4",
   "metadata": {},
   "outputs": [
    {
     "data": {
      "text/plain": [
       "(-3.1844572260429627, 0.011104982316785018)"
      ]
     },
     "execution_count": 41,
     "metadata": {},
     "output_type": "execute_result"
    }
   ],
   "source": [
    "#14. Apply z-test to compare response times\n",
    "\n",
    "response_times = np.array([4.3, 3.8, 5.1, 4.9, 4.7, 4.2, 5.2, 4.5, 4.6, 4.4])\n",
    "z_stat, p_val = stats.ttest_1samp(response_times, 5)\n",
    "z_stat, p_val"
   ]
  },
  {
   "cell_type": "code",
   "execution_count": 42,
   "id": "fa6fe576-208f-4256-bc32-ece2dea15023",
   "metadata": {},
   "outputs": [
    {
     "data": {
      "text/plain": [
       "(-7.298102156175071, 8.833437608301987e-07)"
      ]
     },
     "execution_count": 42,
     "metadata": {},
     "output_type": "execute_result"
    }
   ],
   "source": [
    "#15. Perform A/B test analysis to compare click-through rates\n",
    "\n",
    "from scipy import stats\n",
    "\n",
    "layout_a_clicks = [28, 32, 33, 29, 31, 34, 30, 35, 36, 37]\n",
    "layout_b_clicks = [40, 41, 38, 42, 39, 44, 43, 41, 45, 47]\n",
    "t_stat, p_val = stats.ttest_ind(layout_a_clicks, layout_b_clicks)\n",
    "t_stat, p_val"
   ]
  },
  {
   "cell_type": "code",
   "execution_count": 43,
   "id": "45a15b09-2694-4111-9d21-1bd38749d64a",
   "metadata": {},
   "outputs": [
    {
     "data": {
      "text/plain": [
       "(4.14048098620866, 0.0006143398442372505)"
      ]
     },
     "execution_count": 43,
     "metadata": {},
     "output_type": "execute_result"
    }
   ],
   "source": [
    "#16. Analyze clinical trial data for cholesterol levels\n",
    "\n",
    "existing_drug_levels = [180, 182, 175, 185, 178, 176, 172, 184, 179, 183]\n",
    "new_drug_levels = [170, 172, 165, 168, 175, 173, 170, 178, 172, 176]\n",
    "t_stat, p_val = stats.ttest_ind(existing_drug_levels, new_drug_levels)\n",
    "t_stat, p_val"
   ]
  }
 ],
 "metadata": {
  "kernelspec": {
   "display_name": "Python 3 (ipykernel)",
   "language": "python",
   "name": "python3"
  },
  "language_info": {
   "codemirror_mode": {
    "name": "ipython",
    "version": 3
   },
   "file_extension": ".py",
   "mimetype": "text/x-python",
   "name": "python",
   "nbconvert_exporter": "python",
   "pygments_lexer": "ipython3",
   "version": "3.10.8"
  }
 },
 "nbformat": 4,
 "nbformat_minor": 5
}
